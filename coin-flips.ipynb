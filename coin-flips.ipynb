{
 "cells": [
  {
   "cell_type": "code",
   "execution_count": 19,
   "metadata": {
    "collapsed": false
   },
   "outputs": [],
   "source": [
    "import math\n",
    "import random\n",
    "import statistics as st\n",
    "import matplotlib.pyplot as plt"
   ]
  },
  {
   "cell_type": "code",
   "execution_count": 20,
   "metadata": {
    "collapsed": true
   },
   "outputs": [],
   "source": [
    "%matplotlib inline"
   ]
  },
  {
   "cell_type": "code",
   "execution_count": 6,
   "metadata": {
    "collapsed": false
   },
   "outputs": [],
   "source": [
    "def flip_coin():      #Heads = 1; Tails = 0\n",
    "    return random.randint(0,1)"
   ]
  },
  {
   "cell_type": "code",
   "execution_count": 7,
   "metadata": {
    "collapsed": false
   },
   "outputs": [
    {
     "name": "stdout",
     "output_type": "stream",
     "text": [
      "[(0, 1), (1, 1), (2, 2), (4, 4), (8, 8), (16, 16), (31, 33), (62, 66), (130, 126), (251, 261), (512, 512), (1019, 1029), (2035, 2061), (4124, 4068), (8243, 8141), (16436, 16332), (32862, 32674)]\n"
     ]
    }
   ],
   "source": [
    "n = 17\n",
    "def multi_flip(n):    #Heads = 1; Tails = 0; 2 to the power of 'n' flips\n",
    "    head_count = 0\n",
    "    tail_count = 0\n",
    "    flip_count = 0\n",
    "    bucket = []\n",
    "    for i in range(2**n):\n",
    "        result = flip_coin()\n",
    "        flip_count += 1\n",
    "        if result == 1:\n",
    "            head_count += 1\n",
    "        else:\n",
    "            tail_count += 1\n",
    "        for x in range(n):\n",
    "            if flip_count == (2**x):\n",
    "#                 tot = head_count + tail_count\n",
    "#                 totstr = 'Sum: ' + str(tot)\n",
    "#                 bucket.append((head_count, tail_count, totstr))\n",
    "                bucket.append((head_count, tail_count))\n",
    "    return bucket \n",
    "\n",
    "print(multi_flip(n))       # tuple of heads, tails\n",
    "\n",
    " "
   ]
  },
  {
   "cell_type": "code",
   "execution_count": 8,
   "metadata": {
    "collapsed": false,
    "scrolled": true
   },
   "outputs": [
    {
     "name": "stdout",
     "output_type": "stream",
     "text": [
      "[1.0, 0.5, 0.75, 0.625, 0.5625, 0.5625, 0.5625, 0.546875, 0.5234375, 0.50390625, 0.5009765625, 0.50439453125, 0.494873046875, 0.500244140625, 0.502685546875, 0.50250244140625, 0.500701904296875]\n"
     ]
    }
   ],
   "source": [
    "#preparation for the plotting: Need delta, heads/tails\n",
    "\n",
    "n = 17\n",
    "def delta_flip(n):        # generates a ratio\n",
    "    bucket = multi_flip(n)\n",
    "    delta_head_tail = []\n",
    "    for i in range(n):\n",
    "        delta_head_tail.append(bucket[i][0]/(bucket[i][0]+bucket[i][1]))\n",
    "    return delta_head_tail\n",
    "\n",
    "print(delta_flip(n))"
   ]
  },
  {
   "cell_type": "code",
   "execution_count": 9,
   "metadata": {
    "collapsed": false
   },
   "outputs": [
    {
     "name": "stdout",
     "output_type": "stream",
     "text": [
      "[0, 1, 2, 3, 4, 5, 6, 7, 8, 9, 10, 11, 12, 13, 14, 15, 16]\n"
     ]
    }
   ],
   "source": [
    "# Establish x range labels:\n",
    "n = 17\n",
    "def x_labels(n):\n",
    "    return [x for x in range(n)]\n",
    "print(x_labels(n))"
   ]
  },
  {
   "cell_type": "markdown",
   "metadata": {},
   "source": [
    "## Three functions have been written:##\n",
    "1. flip_coin(); provides a random heads(1) or tails(0).\n",
    "2. multi_flip(n); calls flip_coin() and returns list of flip results.  The number of flips  = 2<sup>n .\n",
    "3. simulation_flip(default); uses a default number = 16, calls multi_flip(n) and returns a dictionary.   \n",
    "4. The dictionary, sim_dict, contains the flip series as a key (0 to 16) and a value = list of flips at each 2 to the power of the key number.\n",
    "\n",
    "The dictionary needs to be unpacked to calculate and graph the following:\n",
    "a. A line plot of the differences between Heads + Tails at each point.    b. A line plot of the ratio of Heads to Tails at each point.\n",
    "c. Both plots will have a logarithmic scale in the x-axis.\n",
    "\n",
    "Revised approach:\n",
    "1. multi_flip(n) was modified to create a series of tuples: (heads, tails) summed at each'n' when applied to 2^n flips. \n",
    "2. The core output was further modified using tuple indexing to isolate the data of interest for plotting. \n",
    "\n",
    "    "
   ]
  },
  {
   "cell_type": "code",
   "execution_count": 10,
   "metadata": {
    "collapsed": false
   },
   "outputs": [
    {
     "data": {
      "image/png": "[encoded data removed]",
      "text/plain": [
       "<matplotlib.figure.Figure at 0x108c0d320>"
      ]
     },
     "metadata": {},
     "output_type": "display_data"
    }
   ],
   "source": [
    "x1=[0, 1, 2, 3, 4, 5, 6, 7, 8, 9, 10, 11, 12, 13, 14, 15, 16]\n",
    "y1=[0.0, 0.0, 0.25, 0.5, 0.5, 0.5, 0.5, 0.5703125, 0.55078125, 0.53515625, 0.533203125, 0.521484375, 0.520751953125, 0.5062255859375, 0.50408935546875, 0.501434326171875, 0.4997406005859375]\n",
    "\n",
    "plt.plot(y1)\n",
    "plt.xticks(range(17), x1)\n",
    "plt.xlabel('2^n power')\n",
    "plt.ylabel('Ratio of Heads to Tails')\n",
    "plt.title('Ratio of Heads to Tails by coin flips to the Power of 2')\n",
    "plt.show()"
   ]
  },
  {
   "cell_type": "code",
   "execution_count": 11,
   "metadata": {
    "collapsed": false
   },
   "outputs": [
    {
     "name": "stdout",
     "output_type": "stream",
     "text": [
      "[1, 2, 2, 2, 6, 4, 8, 6, -8, -26, -42, 30, 12, -36, -74, -374, -604]\n"
     ]
    }
   ],
   "source": [
    "# preparation for the line plot: difference between heads and tails\n",
    "n = 17\n",
    "def diff_flip(n):\n",
    "    bucket = multi_flip(n)\n",
    "    diff_head_tail = []\n",
    "    for i in range(n):\n",
    "        diff_head_tail.append(bucket[i][0]-bucket[i][1])\n",
    "    return diff_head_tail\n",
    "\n",
    "print(diff_flip(n))"
   ]
  },
  {
   "cell_type": "code",
   "execution_count": 12,
   "metadata": {
    "collapsed": false
   },
   "outputs": [
    {
     "data": {
      "image/png": "[encoded data removed]",
      "text/plain": [
       "<matplotlib.figure.Figure at 0x108cd2710>"
      ]
     },
     "metadata": {},
     "output_type": "display_data"
    }
   ],
   "source": [
    "x1=[0, 1, 2, 3, 4, 5, 6, 7, 8, 9, 10, 11, 12, 13, 14, 15, 16]\n",
    "y1=[-1, -2, 0, 2, 4, -2, 0, 0, -16, -32, -32, -64, -64, -94, -70, -42, 16]\n",
    "\n",
    "plt.plot(y1)\n",
    "plt.xticks(range(17), x1)\n",
    "plt.xlabel('2^n power')\n",
    "plt.ylabel('Heads minus Tails')\n",
    "plt.title('Difference (Heads minus Tails)to the Power of 2')\n",
    "plt.show()"
   ]
  },
  {
   "cell_type": "code",
   "execution_count": 13,
   "metadata": {
    "collapsed": false
   },
   "outputs": [
    {
     "data": {
      "image/png": "[encoded data removed]",
      "text/plain": [
       "<matplotlib.figure.Figure at 0x108c95c18>"
      ]
     },
     "metadata": {},
     "output_type": "display_data"
    }
   ],
   "source": [
    "x1=[0, 1, 2, 3, 4, 5, 6, 7, 8, 9, 10, 11, 12, 13, 14, 15, 16]\n",
    "y1=[0.0, 0.0, 0.25, 0.5, 0.5, 0.5, 0.5, 0.5703125, 0.55078125, 0.53515625, 0.533203125, 0.521484375, 0.520751953125, 0.5062255859375, 0.50408935546875, 0.501434326171875, 0.4997406005859375]\n",
    "\n",
    "plt.scatter(x1, y1)\n",
    "plt.xlabel(\"2^n power\")\n",
    "plt.ylabel(\"Head to Tail Ratio\")\n",
    "plt.title(\"Scatter Plot of Head/Tail Ratio \")\n",
    "plt.show()"
   ]
  },
  {
   "cell_type": "markdown",
   "metadata": {},
   "source": [
    "\n",
    "n = 17\n",
    "def x1_log(n):\n",
    "    logger = []\n",
    "    for i in range(n):\n",
    "        logger.append(math.log2(i+1))\n",
    "    return logger\n",
    "\n",
    "print(x1_log(n))\n"
   ]
  },
  {
   "cell_type": "code",
   "execution_count": 14,
   "metadata": {
    "collapsed": false
   },
   "outputs": [
    {
     "data": {
      "image/png": "[encoded data removed]",
      "text/plain": [
       "<matplotlib.figure.Figure at 0x108ea5390>"
      ]
     },
     "metadata": {},
     "output_type": "display_data"
    }
   ],
   "source": [
    "x1=[0.0, 1.0, 1.584962500721156, 2.0, 2.321928094887362, 2.584962500721156, 2.807354922057604, 3.0, 3.169925001442312, 3.321928094887362, 3.4594316186372973, 3.584962500721156, 3.700439718141092, 3.807354922057604, 3.9068905956085187, 4.0, 4.087462841250339]\n",
    "y1=[0.0, 0.0, 0.25, 0.5, 0.5, 0.5, 0.5, 0.5703125, 0.55078125, 0.53515625, 0.533203125, 0.521484375, 0.520751953125, 0.5062255859375, 0.50408935546875, 0.501434326171875, 0.4997406005859375]\n",
    "\n",
    "plt.scatter(x1, y1)\n",
    "\n",
    "plt.xlabel(\"2^n power\")\n",
    "plt.ylabel(\"Head to Tail Ratio\")\n",
    "plt.title(\"Scatter Plot of Head/Tail Ratio with Log(x)\")\n",
    "plt.show()"
   ]
  },
  {
   "cell_type": "raw",
   "metadata": {},
   "source": []
  },
  {
   "cell_type": "code",
   "execution_count": 15,
   "metadata": {
    "collapsed": false
   },
   "outputs": [
    {
     "data": {
      "image/png": "[encoded data removed]",
      "text/plain": [
       "<matplotlib.figure.Figure at 0x108f6da58>"
      ]
     },
     "metadata": {},
     "output_type": "display_data"
    }
   ],
   "source": [
    "x1=[0.0, 1.0, 1.5849, 2.0, 2.3219, 2.5849, 2.8073, 3.0, 3.1699, 3.3219, 3.4594, 3.5849, 3.7004, 3.80734, 3.906, 4.0, 4.0874]\n",
    "y1=[-1, -2, 0, 2, 4, -2, 0, 0, -16, -32, -32, -64, -64, -94, -70, -42, 16]\n",
    "\n",
    "plt.scatter(x1, y1)\n",
    "plt.xticks(range(8), x1)\n",
    "plt.xlabel('2^n power')\n",
    "plt.ylabel('Heads minus Tails')\n",
    "plt.title('Scatter Plot of Heads - Tails to the Power of 2 with log(x)')\n",
    "plt.show()"
   ]
  },
  {
   "cell_type": "markdown",
   "metadata": {},
   "source": [
    "## Summary after first series of graphs"
   ]
  },
  {
   "cell_type": "markdown",
   "metadata": {},
   "source": [
    "The ratio of Heads to Tails is the most insightful of the data review so far.   By 8 flips, or 2^3 trials, the ratio converges on 0.5 probability of either heads or tails.  \n",
    "\n",
    "The graph of the absolute differences between heads and tails as the number of heads and tails grows larger do not impact the probability ratio.  The larger number of trials can tolerate a larger shift in absolute numbers without affecting the overall ratio.\n"
   ]
  },
  {
   "cell_type": "markdown",
   "metadata": {},
   "source": [
    "time stamp = 10:30 pm"
   ]
  },
  {
   "cell_type": "markdown",
   "metadata": {},
   "source": [
    "Twenty Trials of 2^16 model:"
   ]
  },
  {
   "cell_type": "code",
   "execution_count": 16,
   "metadata": {
    "collapsed": false
   },
   "outputs": [
    {
     "name": "stdout",
     "output_type": "stream",
     "text": [
      "[(1, 0), (1, 1), (1, 3), (1, 7), (5, 11), (13, 19), (27, 37), (59, 69), (124, 132), (245, 267), (505, 519), (1017, 1031), (1998, 2098), (4022, 4170), (8201, 8183), (16424, 16344), (32753, 32783)]\n"
     ]
    }
   ],
   "source": [
    "n = 17\n",
    "def multi_flip(n):    #Heads = 1; Tails = 0; 2 to the power of 'n' flips\n",
    "    head_count = 0\n",
    "    tail_count = 0\n",
    "    flip_count = 0\n",
    "    bucket = []\n",
    "    for i in range(2**n):\n",
    "        result = flip_coin()\n",
    "        flip_count += 1\n",
    "        if result == 1:\n",
    "            head_count += 1\n",
    "        else:\n",
    "            tail_count += 1\n",
    "        for x in range(n):\n",
    "            if flip_count == (2**x):\n",
    "                bucket.append((head_count, tail_count))\n",
    "    return bucket \n",
    "\n",
    "print(multi_flip(n))       # tuple of heads, tails\n",
    "# time stamp = 7:15pm\n",
    " "
   ]
  },
  {
   "cell_type": "code",
   "execution_count": 18,
   "metadata": {
    "collapsed": false
   },
   "outputs": [
    {
     "name": "stdout",
     "output_type": "stream",
     "text": [
      "[[(0, 1), (0, 2), (1, 3), (2, 6), (5, 11), (14, 18), (26, 38), (61, 67)], [(1, 0), (2, 0), (4, 0), (5, 3), (9, 7), (17, 15), (30, 34), (63, 65)], [(0, 1), (1, 1), (2, 2), (5, 3), (8, 8), (16, 16), (33, 31), (68, 60)], [(0, 1), (0, 2), (1, 3), (4, 4), (9, 7), (15, 17), (29, 35), (62, 66)]]\n"
     ]
    }
   ],
   "source": [
    "\n",
    "#super bucket to allow 20 repeats of the multi_flip accumulation.\n",
    "r = 4\n",
    "n = 8\n",
    "def super_flip(r, n):\n",
    "    super_bucket = []\n",
    "    intermediate_bucket= []\n",
    "    for i in range(r):\n",
    "        multi_flip(n)\n",
    "        super_bucket.append(multi_flip(n))\n",
    "    return super_bucket\n",
    "\n",
    "print(super_flip(r, n))   \n",
    "        "
   ]
  },
  {
   "cell_type": "markdown",
   "metadata": {},
   "source": [
    "Attempted a tuple iterative sum based on 20 new lists across 17 specific tuples (1 for each power):\n",
    "for r in range(20):\n",
    "   for c in range(17):\n",
    "       tuplesum = (tuple[r][c] + tuple[r][c+1]) +tuple[r][c+2] +...+ tuple[r][c+16]\n",
    "                \n",
    "time stamp 12:20 am"
   ]
  },
  {
   "cell_type": "code",
   "execution_count": null,
   "metadata": {
    "collapsed": true
   },
   "outputs": [],
   "source": []
  }
 ],
 "metadata": {
  "kernelspec": {
   "display_name": "Python 3",
   "language": "python",
   "name": "python3"
  },
  "language_info": {
   "codemirror_mode": {
    "name": "ipython",
    "version": 3
   },
   "file_extension": ".py",
   "mimetype": "text/x-python",
   "name": "python",
   "nbconvert_exporter": "python",
   "pygments_lexer": "ipython3",
   "version": "3.4.3"
  }
 },
 "nbformat": 4,
 "nbformat_minor": 0
}
