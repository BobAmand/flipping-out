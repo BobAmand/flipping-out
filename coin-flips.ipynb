{
 "cells": [
  {
   "cell_type": "code",
   "execution_count": 2,
   "metadata": {
    "collapsed": false
   },
   "outputs": [],
   "source": [
    "import matplotlib.pyplot as plt"
   ]
  },
  {
   "cell_type": "code",
   "execution_count": 3,
   "metadata": {
    "collapsed": true
   },
   "outputs": [],
   "source": [
    "%matplotlib inline"
   ]
  },
  {
   "cell_type": "code",
   "execution_count": 4,
   "metadata": {
    "collapsed": true
   },
   "outputs": [],
   "source": [
    "import math"
   ]
  },
  {
   "cell_type": "code",
   "execution_count": 5,
   "metadata": {
    "collapsed": true
   },
   "outputs": [],
   "source": [
    "import statistics as st"
   ]
  },
  {
   "cell_type": "code",
   "execution_count": 6,
   "metadata": {
    "collapsed": true
   },
   "outputs": [],
   "source": [
    "import random"
   ]
  },
  {
   "cell_type": "code",
   "execution_count": 13,
   "metadata": {
    "collapsed": false
   },
   "outputs": [],
   "source": [
    "def flip_coin():      #Heads = 1; Tails = 0\n",
    "    return random.randint(0,1)"
   ]
  },
  {
   "cell_type": "code",
   "execution_count": 61,
   "metadata": {
    "collapsed": false
   },
   "outputs": [
    {
     "name": "stdout",
     "output_type": "stream",
     "text": [
      "[(1, 0), (1, 1), (3, 1), (4, 4), (6, 10), (18, 14), (36, 28), (68, 60), (137, 119), (273, 239), (525, 499), (1078, 970), (2139, 1957), (4199, 3993), (8232, 8152), (16395, 16373), (32790, 32746)]\n"
     ]
    }
   ],
   "source": [
    "n = 17\n",
    "def multi_flip(n):    #Heads = 1; Tails = 0; 2 to the power of 'n' flips\n",
    "    head_count = 0\n",
    "    tail_count = 0\n",
    "    flip_count = 0\n",
    "    bucket = []\n",
    "    for i in range(2**n):\n",
    "        result = flip_coin()\n",
    "        flip_count += 1\n",
    "        if result == 1:\n",
    "            head_count += 1\n",
    "        else:\n",
    "            tail_count += 1\n",
    "        for x in range(n):\n",
    "            if flip_count == (2**x):\n",
    "                bucket.append((head_count, tail_count))\n",
    "    return bucket \n",
    "\n",
    "print(multi_flip(n))       # tuple of heads, tails\n",
    "# time stamp = 7:15pm\n",
    " "
   ]
  },
  {
   "cell_type": "code",
   "execution_count": 57,
   "metadata": {
    "collapsed": false,
    "scrolled": true
   },
   "outputs": [
    {
     "name": "stdout",
     "output_type": "stream",
     "text": [
      "[1.0, 1.0, 1.0, 1.0, 0.625, 0.53125, 0.53125, 0.4609375, 0.4609375, 0.470703125, 0.490234375, 0.50732421875, 0.508544921875, 0.50146484375, 0.49835205078125, 0.500885009765625]\n"
     ]
    }
   ],
   "source": [
    "#preparation for the plotting: Need delta, heads/tails\n",
    "\n",
    "n = 17\n",
    "def delta_flip(n):\n",
    "    bucket = multi_flip(n)\n",
    "    delta_head_tail = []\n",
    "    for i in range(n):\n",
    "        delta_head_tail.append(bucket[i][0]/(bucket[i][0]+bucket[i][1]))\n",
    "    return delta_head_tail\n",
    "\n",
    "print(delta_flip(n))"
   ]
  },
  {
   "cell_type": "code",
   "execution_count": 59,
   "metadata": {
    "collapsed": false
   },
   "outputs": [
    {
     "name": "stdout",
     "output_type": "stream",
     "text": [
      "[0, 1, 2, 3, 4, 5, 6, 7, 8, 9, 10, 11, 12, 13, 14, 15, 16]\n"
     ]
    }
   ],
   "source": [
    "# Establish x range labels:\n",
    "n = 17\n",
    "def x_labels(n):\n",
    "    return [x for x in range(n)]\n",
    "print(x_labels(n))"
   ]
  },
  {
   "cell_type": "markdown",
   "metadata": {},
   "source": [
    "## Three functions have been written:##\n",
    "1. flip_coin(); provides a random heads(1) or tails(0).\n",
    "2. multi_flip(n); calls flip_coin() and returns list of flip results.  The number of flips  = 2<sup>n .\n",
    "3. simulation_flip(default); uses a default number = 16, calls multi_flip(n) and returns a dictionary.   \n",
    "4. The dictionary, sim_dict, contains the flip series as a key (0 to 16) and a value = list of flips at each 2 to the power of the key number.\n",
    "\n",
    "The dictionary needs to be unpacked to calculate and graph the following:\n",
    "a. A line plot of the differences between Heads + Tails at each point.    b. A line plot of the ratio of Heads to Tails at each point.\n",
    "c. Both plots will have a logarithmic scale in the x-axis.\n",
    "\n",
    "    "
   ]
  },
  {
   "cell_type": "code",
   "execution_count": 62,
   "metadata": {
    "collapsed": false
   },
   "outputs": [
    {
     "data": {
      "image/png": "[encoded data removed]",
      "text/plain": [
       "<matplotlib.figure.Figure at 0x1085606d8>"
      ]
     },
     "metadata": {},
     "output_type": "display_data"
    }
   ],
   "source": [
    "x1=[0, 1, 2, 3, 4, 5, 6, 7, 8, 9, 10, 11, 12, 13, 14, 15, 16]\n",
    "y1=[1.0, 1.0, 1.0, 1.0, 0.625, 0.53125, 0.53125, 0.4609375, 0.4609375, 0.470703125, 0.490234375, 0.50732421875, 0.508544921875, 0.50146484375, 0.49835205078125, 0.500885009765625]\n",
    "\n",
    "plt.plot(y1)\n",
    "plt.xticks(range(17), x1)\n",
    "plt.xlabel('2^n power')\n",
    "plt.ylabel('Ratio of Heads to Tails')\n",
    "plt.title('Ratio of Heads to Tails by coin flips to the Power of 2')\n",
    "plt.show()"
   ]
  },
  {
   "cell_type": "code",
   "execution_count": null,
   "metadata": {
    "collapsed": true
   },
   "outputs": [],
   "source": [
    "# preparation for the line plot"
   ]
  }
 ],
 "metadata": {
  "kernelspec": {
   "display_name": "Python 3",
   "language": "python",
   "name": "python3"
  },
  "language_info": {
   "codemirror_mode": {
    "name": "ipython",
    "version": 3
   },
   "file_extension": ".py",
   "mimetype": "text/x-python",
   "name": "python",
   "nbconvert_exporter": "python",
   "pygments_lexer": "ipython3",
   "version": "3.4.3"
  }
 },
 "nbformat": 4,
 "nbformat_minor": 0
}
