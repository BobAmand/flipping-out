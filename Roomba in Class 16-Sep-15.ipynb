{
 "cells": [
  {
   "cell_type": "markdown",
   "metadata": {},
   "source": [
    "## Roomba simulation\n",
    "\n",
    "* Room that is 15 x 20 ft.\n",
    "each\"tick' (unit of time) the roomba moves 1 foot untuill it hits a wall. Whatever spot(1 ft x 1 ft square) the roomba is in at the  time considered cleanred.\n",
    "* The roomba does not keep track of where its been the only thing is ithe number of degress it las turned.\n",
    "* Oure defalut foomba follows these rules:\n",
    "1. move in a straight line until it hits a wall\n",
    "2. Rotate randomly from 90 to 270 degrees\n"
   ]
  },
  {
   "cell_type": "code",
   "execution_count": 15,
   "metadata": {
    "collapsed": true
   },
   "outputs": [],
   "source": [
    "import math\n",
    "import random\n",
    "import matplotlib.pyplot as plt\n",
    "import statistics as st"
   ]
  },
  {
   "cell_type": "code",
   "execution_count": 16,
   "metadata": {
    "collapsed": true
   },
   "outputs": [],
   "source": [
    "%matplotlib inline"
   ]
  },
  {
   "cell_type": "code",
   "execution_count": 17,
   "metadata": {
    "collapsed": true
   },
   "outputs": [],
   "source": [
    "def angle_to_x_y(degrees, dist=1):\n",
    "    radians = math.radians(degrees)\n",
    "    x = dist * math.cos(radians)\n",
    "    y = dist * math.sin(radians)\n",
    "    return x, y"
   ]
  },
  {
   "cell_type": "code",
   "execution_count": 18,
   "metadata": {
    "collapsed": false
   },
   "outputs": [
    {
     "data": {
      "text/plain": [
       "(6.123233995736766e-17, 1.0)"
      ]
     },
     "execution_count": 18,
     "metadata": {},
     "output_type": "execute_result"
    }
   ],
   "source": [
    "angle_to_x_y(90, 1)"
   ]
  },
  {
   "cell_type": "code",
   "execution_count": 19,
   "metadata": {
    "collapsed": true
   },
   "outputs": [],
   "source": [
    "class Room:\n",
    "    \"\"\"\n",
    "    Responsibilities:\n",
    "    -Dimiensions (width * height)\n",
    "    keep track of how much of the room hsas been cleaned\n",
    "    \"\"\"\n",
    "    def __init__(self, width, height):\n",
    "        self.width = width\n",
    "        self.height = height\n",
    "        self.clean_squares = set()\n",
    "        \n",
    "    def reset(self):\n",
    "        self.clean_squares = set()\n",
    "        \n",
    "    def pick_random_location(self):\n",
    "        x = random.uniform(0, self.width)\n",
    "        y = random.uniform(0, self.height)\n",
    "        return x, y\n",
    "    \n",
    "    def how_much_cleaned(self):\n",
    "        return len(self.clean_squares) / self.total_squares #(self.width * self.height)\n",
    "    \n",
    "    def total_squares(self):\n",
    "        return self.width * self.height\n",
    "    \n",
    "    def in_room(self, x, y):\n",
    "        if 0 < x < self.width and 0 < y < self.height:\n",
    "            return True       # now it is in the room\n",
    "        else:\n",
    "            return False\n",
    "        \n",
    "    def clean_square(self, x, y):\n",
    "        x = int(x)\n",
    "        y = int(y)\n",
    "        self.clean_squares.add((x, y))\n",
    "    "
   ]
  },
  {
   "cell_type": "code",
   "execution_count": 20,
   "metadata": {
    "collapsed": false
   },
   "outputs": [
    {
     "ename": "TypeError",
     "evalue": "unsupported operand type(s) for /: 'int' and 'method'",
     "output_type": "error",
     "traceback": [
      "\u001b[0;31m---------------------------------------------------------------------------\u001b[0m",
      "\u001b[0;31mTypeError\u001b[0m                                 Traceback (most recent call last)",
      "\u001b[0;32m<ipython-input-20-9d6cf54eee6f>\u001b[0m in \u001b[0;36m<module>\u001b[0;34m()\u001b[0m\n\u001b[1;32m      1\u001b[0m \u001b[0mbedroom\u001b[0m \u001b[0;34m=\u001b[0m \u001b[0mRoom\u001b[0m\u001b[0;34m(\u001b[0m\u001b[0;36m4\u001b[0m\u001b[0;34m,\u001b[0m \u001b[0;36m3\u001b[0m\u001b[0;34m)\u001b[0m\u001b[0;34m\u001b[0m\u001b[0m\n\u001b[0;32m----> 2\u001b[0;31m \u001b[0mprint\u001b[0m\u001b[0;34m(\u001b[0m\u001b[0mbedroom\u001b[0m\u001b[0;34m.\u001b[0m\u001b[0mhow_much_cleaned\u001b[0m\u001b[0;34m(\u001b[0m\u001b[0;34m)\u001b[0m\u001b[0;34m)\u001b[0m\u001b[0;34m\u001b[0m\u001b[0m\n\u001b[0m\u001b[1;32m      3\u001b[0m \u001b[0mbedroom\u001b[0m\u001b[0;34m.\u001b[0m\u001b[0mclean_square\u001b[0m\u001b[0;34m(\u001b[0m\u001b[0;36m1.8\u001b[0m\u001b[0;34m,\u001b[0m \u001b[0;36m0.9\u001b[0m\u001b[0;34m)\u001b[0m\u001b[0;34m\u001b[0m\u001b[0m\n\u001b[1;32m      4\u001b[0m \u001b[0mprint\u001b[0m\u001b[0;34m(\u001b[0m\u001b[0mbedroom\u001b[0m\u001b[0;34m.\u001b[0m\u001b[0mhow_much_cleaned\u001b[0m\u001b[0;34m(\u001b[0m\u001b[0;34m)\u001b[0m\u001b[0;34m)\u001b[0m\u001b[0;34m\u001b[0m\u001b[0m\n",
      "\u001b[0;32m<ipython-input-19-f8e07fc127d9>\u001b[0m in \u001b[0;36mhow_much_cleaned\u001b[0;34m(self)\u001b[0m\n\u001b[1;32m     19\u001b[0m \u001b[0;34m\u001b[0m\u001b[0m\n\u001b[1;32m     20\u001b[0m     \u001b[0;32mdef\u001b[0m \u001b[0mhow_much_cleaned\u001b[0m\u001b[0;34m(\u001b[0m\u001b[0mself\u001b[0m\u001b[0;34m)\u001b[0m\u001b[0;34m:\u001b[0m\u001b[0;34m\u001b[0m\u001b[0m\n\u001b[0;32m---> 21\u001b[0;31m         \u001b[0;32mreturn\u001b[0m \u001b[0mlen\u001b[0m\u001b[0;34m(\u001b[0m\u001b[0mself\u001b[0m\u001b[0;34m.\u001b[0m\u001b[0mclean_squares\u001b[0m\u001b[0;34m)\u001b[0m \u001b[0;34m/\u001b[0m \u001b[0mself\u001b[0m\u001b[0;34m.\u001b[0m\u001b[0mtotal_squares\u001b[0m \u001b[0;31m#(self.width * self.height)\u001b[0m\u001b[0;34m\u001b[0m\u001b[0m\n\u001b[0m\u001b[1;32m     22\u001b[0m \u001b[0;34m\u001b[0m\u001b[0m\n\u001b[1;32m     23\u001b[0m     \u001b[0;32mdef\u001b[0m \u001b[0mtotal_squares\u001b[0m\u001b[0;34m(\u001b[0m\u001b[0mself\u001b[0m\u001b[0;34m)\u001b[0m\u001b[0;34m:\u001b[0m\u001b[0;34m\u001b[0m\u001b[0m\n",
      "\u001b[0;31mTypeError\u001b[0m: unsupported operand type(s) for /: 'int' and 'method'"
     ]
    }
   ],
   "source": [
    "bedroom = Room(4, 3)\n",
    "print(bedroom.how_much_cleaned())\n",
    "bedroom.clean_square(1.8, 0.9)\n",
    "print(bedroom.how_much_cleaned())\n"
   ]
  },
  {
   "cell_type": "code",
   "execution_count": null,
   "metadata": {
    "collapsed": true
   },
   "outputs": [],
   "source": [
    "class Roomba:\n",
    "    \"\"\"\n",
    "    Responsibilities:\n",
    "    - know it currentangle\n",
    "    - have a response for hitting a wall\n",
    "    - report its relative x and y movement\n",
    "    - know its speed\n",
    "    - change its angle\n",
    "    \"\"\"\n",
    "    \n",
    "    def __init__(delf, spleed=1, angle=0):\n",
    "        self.angle = angle\n",
    "        self.speed = speed\n",
    "        \n",
    "    def move(self):\n",
    "        return angle_to_x_y(self.angle, self.speed)\n",
    "    \n",
    "    def turn(self, turn_amount):\n",
    "        self.angle += turn_amount\n",
    "        self.angle %= 360\n",
    "        \n",
    "    def hit_wall(self):\n",
    "        self.turn(random.uniform(90, 270))\n",
    "        "
   ]
  },
  {
   "cell_type": "code",
   "execution_count": null,
   "metadata": {
    "collapsed": true
   },
   "outputs": [],
   "source": [
    "class Simulation:\n",
    "    \"\"\"\n",
    "    Responsibilities:\n",
    "    - place the Roomba\n",
    "    - figure out where ther Roomba is moving (by asking it)\n",
    "    - updating the room\n",
    "    - iterating over ticks\n",
    "    - keeping track of some stats as the room is cleaned\n",
    "    \n",
    "    Collaborators:\n",
    "    - Roomba\n",
    "    - Room\n",
    "    \"\"\"\n",
    "    \n",
    "    def __init__(slef, room, roomba):\n",
    "        self.room =room\n",
    "        self.roomba = roomba\n",
    "        \n",
    "        self.ticks = 0\n",
    "        \n",
    "        initial_x, initial_y = self.room.pick_random_locations()\n",
    "        initial_angle = random.uniform(0, 360)\n",
    "        \n",
    "        self.current_x = initial_x\n",
    "        self.current_y = initial_y\n",
    "        self.current_angle = initial_angle\n",
    "        \n",
    "    def update_roomba(self):\n",
    "        change_x, change_y = self.roomba.move()\n",
    "        \n",
    "        #check to see if we've hit the wall\n",
    "        #if so, let teh rromba know and get new values\n",
    "        \n",
    "        new_x = self.current_x + change_x\n",
    "        new_y = self.current_y + change_y\n",
    "        \n",
    "        if self.room.in_room(new_x, new_y):\n",
    "            # the roomba moves!\n",
    "            self.current_x = new_x\n",
    "            self.current_y = new_y\n",
    "        else:\n",
    "            self.roomba.hit_wall()\n",
    "            \n",
    "    def iterate(self):\n",
    "        self.ticks += 1\n",
    "        self.update_roomba()\n",
    "        self.room.clean_square(self.current_x, self.current_y)\n",
    "        \n",
    "    def get_stats(self):\n",
    "        return {\n",
    "            'ticks': self.ticks,\n",
    "            'ratio_cleaned' : self.room.how_much_cleaned(),\n",
    "            'roomba_location': self.current_x, self.current_y),\n",
    "            'roomba_angle': self.roomba.angle\n",
    "        }\n",
    "        \n",
    "    def run_simulation(self):\n",
    "        self.reset()\n",
    "        self.room.clean_square(self.current_x, self.current_y)\n",
    "        while self.room.how_much_cleaned() < 1.0:\n",
    "            self.iterate()\n",
    "        \n",
    "        print(\"ROOM CLEAN!!!\")\n",
    "        print(self.get_stats())\n",
    "        \n",
    "        "
   ]
  },
  {
   "cell_type": "code",
   "execution_count": null,
   "metadata": {
    "collapsed": true
   },
   "outputs": [],
   "source": [
    "sally = Roomba()\n",
    "bedroom = Room(4,3)\n",
    "\n",
    "#sim1 = Simulation(bedroom, sally)\n",
    "#results = sim1.run_simulation()\n"
   ]
  },
  {
   "cell_type": "code",
   "execution_count": null,
   "metadata": {
    "collapsed": true
   },
   "outputs": [],
   "source": [
    "'''\n",
    "for _ in range(20):\n",
    "    sim1\n",
    "'''"
   ]
  }
 ],
 "metadata": {
  "kernelspec": {
   "display_name": "Python 3",
   "language": "python",
   "name": "python3"
  },
  "language_info": {
   "codemirror_mode": {
    "name": "ipython",
    "version": 3
   },
   "file_extension": ".py",
   "mimetype": "text/x-python",
   "name": "python",
   "nbconvert_exporter": "python",
   "pygments_lexer": "ipython3",
   "version": "3.4.3"
  }
 },
 "nbformat": 4,
 "nbformat_minor": 0
}
