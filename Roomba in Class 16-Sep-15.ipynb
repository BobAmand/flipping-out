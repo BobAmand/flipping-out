{
 "cells": [
  {
   "cell_type": "markdown",
   "metadata": {},
   "source": [
    "## Roomba simulation\n",
    "\n",
    "* Room that is 15 x 20 ft.\n",
    "each\"tick' (unit of time) the roomba moves 1 foot untuill it hits a wall. Whatever spot(1 ft x 1 ft square) the roomba is in at the  time considered cleanred.\n",
    "* The roomba does not keep track of where its been the only thing is ithe number of degress it las turned.\n",
    "* Oure defalut foomba follows these rules:\n",
    "1. move in a straight line until it hits a wall\n",
    "2. Rotate randomly from 90 to 270 degrees\n"
   ]
  },
  {
   "cell_type": "code",
   "execution_count": 168,
   "metadata": {
    "collapsed": true
   },
   "outputs": [],
   "source": [
    "import math\n",
    "import random\n",
    "import matplotlib.pyplot as plt\n",
    "import statistics as st"
   ]
  },
  {
   "cell_type": "code",
   "execution_count": 169,
   "metadata": {
    "collapsed": true
   },
   "outputs": [],
   "source": [
    "%matplotlib inline"
   ]
  },
  {
   "cell_type": "code",
   "execution_count": 170,
   "metadata": {
    "collapsed": true
   },
   "outputs": [],
   "source": [
    "def angle_to_x_y(degrees, dist=1):\n",
    "    radians = math.radians(degrees)\n",
    "    x = dist * math.cos(radians)\n",
    "    y = dist * math.sin(radians)\n",
    "    return x, y"
   ]
  },
  {
   "cell_type": "code",
   "execution_count": 171,
   "metadata": {
    "collapsed": false
   },
   "outputs": [
    {
     "data": {
      "text/plain": [
       "(0.7071067811865476, 0.7071067811865475)"
      ]
     },
     "execution_count": 171,
     "metadata": {},
     "output_type": "execute_result"
    }
   ],
   "source": [
    "angle_to_x_y(45, 1)"
   ]
  },
  {
   "cell_type": "code",
   "execution_count": 172,
   "metadata": {
    "collapsed": false
   },
   "outputs": [
    {
     "data": {
      "text/plain": [
       "0.7071067811865476"
      ]
     },
     "execution_count": 172,
     "metadata": {},
     "output_type": "execute_result"
    }
   ],
   "source": [
    "math.sqrt(2)/2     # note this is equivalent to math.cos(math.radians(45))"
   ]
  },
  {
   "cell_type": "code",
   "execution_count": 173,
   "metadata": {
    "collapsed": true
   },
   "outputs": [],
   "source": [
    "class Room:\n",
    "    \"\"\"\n",
    "    Responsibilities:\n",
    "    -Dimiensions (width * height)\n",
    "    keep track of how much of the room hsas been cleaned\n",
    "    \"\"\"\n",
    "    def __init__(self, width, height):\n",
    "        self.width = width\n",
    "        self.height = height\n",
    "        self.clean_squares = set()\n",
    "        \n",
    "    def reset(self):\n",
    "        self.clean_squares = set()\n",
    "        \n",
    "    def pick_random_location(self):\n",
    "        x = random.uniform(0, self.width)\n",
    "        y = random.uniform(0, self.height)\n",
    "        return x, y\n",
    "    \n",
    "    def how_much_cleaned(self):\n",
    "        return len(self.clean_squares) / self.total_squares()  # (self.width * self.height)\n",
    "    \n",
    "    def total_squares(self):\n",
    "        return self.width * self.height\n",
    "    \n",
    "    def in_room(self, x, y):\n",
    "        if 0 < x < self.width and 0 < y < self.height:\n",
    "            return True       # now it is in the room\n",
    "        else:\n",
    "            return False\n",
    "        \n",
    "    def clean_square(self, x, y):\n",
    "        x = int(x)\n",
    "        y = int(y)\n",
    "        self.clean_squares.add((x, y))\n",
    "    "
   ]
  },
  {
   "cell_type": "code",
   "execution_count": 174,
   "metadata": {
    "collapsed": false
   },
   "outputs": [
    {
     "name": "stdout",
     "output_type": "stream",
     "text": [
      "0.0\n",
      "0.08333333333333333\n",
      "0.16666666666666666\n",
      "0.25\n",
      "0.3333333333333333\n",
      "0.4166666666666667\n"
     ]
    }
   ],
   "source": [
    "bedroom = Room(4, 3)\n",
    "print(bedroom.how_much_cleaned())\n",
    "bedroom.clean_square(1.8, 0.9)\n",
    "print(bedroom.how_much_cleaned())\n",
    "bedroom.clean_square(2.0, 1.5)\n",
    "print(bedroom.how_much_cleaned())\n",
    "bedroom.clean_square(2.6, 0.9)\n",
    "print(bedroom.how_much_cleaned())\n",
    "bedroom.clean_square(4.0, 3.0)\n",
    "print(bedroom.how_much_cleaned())\n",
    "bedroom.clean_square(12.0, 1.0)\n",
    "print(bedroom.how_much_cleaned())\n"
   ]
  },
  {
   "cell_type": "code",
   "execution_count": 175,
   "metadata": {
    "collapsed": true
   },
   "outputs": [],
   "source": [
    "class Roomba:\n",
    "    \"\"\"\n",
    "    Responsibilities:\n",
    "    - know it currentangle\n",
    "    - have a response for hitting a wall\n",
    "    - report its relative x and y movement\n",
    "    - know its speed\n",
    "    - change its angle\n",
    "    \"\"\"\n",
    "    \n",
    "    def __init__(self, speed=1, angle=0):\n",
    "        self.angle = angle\n",
    "        self.speed = speed\n",
    "        \n",
    "    def move(self):\n",
    "        return angle_to_x_y(self.angle, self.speed)\n",
    "    \n",
    "    def turn(self, turn_amount):\n",
    "        self.angle += turn_amount\n",
    "        self.angle %= 360\n",
    "        \n",
    "    def hit_wall(self):\n",
    "        self.turn(random.uniform(90, 270))\n",
    "        \n",
    "class SmartRoomba(Roomba):\n",
    "    def __init__(self, speed=1, angle=0):\n",
    "        super().__init__(speed, angle)\n",
    "\n",
    "    def hit_wall(self):\n",
    "        self.turn(random.uniform(160, 220))\n",
    "        "
   ]
  },
  {
   "cell_type": "code",
   "execution_count": 176,
   "metadata": {
    "collapsed": true
   },
   "outputs": [],
   "source": [
    "class Simulation:\n",
    "    \"\"\"\n",
    "    Responsibilities:\n",
    "    - place the Roomba\n",
    "    - figure out where ther Roomba is moving (by asking it)\n",
    "    - updating the room\n",
    "    - iterating over ticks\n",
    "    - keeping track of some stats as the room is cleaned\n",
    "    \n",
    "    Collaborators:\n",
    "    - Roomba\n",
    "    - Room\n",
    "    \"\"\"\n",
    "    \n",
    "    def __init__(self, room, roomba):\n",
    "        self.room =room\n",
    "        self.roomba = roomba\n",
    "        self.reset()\n",
    "        \n",
    "    def reset(self):\n",
    "        self.ticks = 0\n",
    "        \n",
    "        initial_x, initial_y = self.room.pick_random_location()\n",
    "        initial_angle = random.uniform(0, 360)\n",
    "        \n",
    "        self.current_x = initial_x\n",
    "        self.current_y = initial_y\n",
    "        self.current_angle = initial_angle\n",
    "        \n",
    "    def update_roomba(self):\n",
    "        change_x, change_y = self.roomba.move()\n",
    "        \n",
    "        #check to see if we've hit the wall\n",
    "        #if so, let the roomba know and get new values\n",
    "        \n",
    "        new_x = self.current_x + change_x\n",
    "        new_y = self.current_y + change_y\n",
    "        \n",
    "        if self.room.in_room(new_x, new_y):\n",
    "            # the roomba moves!\n",
    "            self.current_x = new_x\n",
    "            self.current_y = new_y\n",
    "        else:\n",
    "            self.roomba.hit_wall()\n",
    "            \n",
    "    def iterate(self):\n",
    "        self.ticks += 1\n",
    "        self.update_roomba()\n",
    "        self.room.clean_square(self.current_x, self.current_y)\n",
    "        \n",
    "    def get_stats(self):\n",
    "        return {\n",
    "            'ticks': self.ticks,\n",
    "            'ratio_cleaned' : self.room.how_much_cleaned(),\n",
    "            'roomba_location': (self.current_x, self.current_y),\n",
    "            'roomba_angle': self.roomba.angle\n",
    "        }\n",
    "        \n",
    "    def run_simulation(self):\n",
    "        stats = []\n",
    "        self.reset()\n",
    "        self.room.clean_square(self.current_x, self.current_y)\n",
    "        while self.room.how_much_cleaned() < 1.0:\n",
    "            stats.append(self.get_stats())\n",
    "            self.iterate()\n",
    "            \n",
    "        stats.append(self.get_stats())\n",
    "        return stats\n",
    "        \n",
    "#         print(\"ROOM CLEAN!!!\")\n",
    "#         print(self.get_stats())\n",
    "        \n",
    "        "
   ]
  },
  {
   "cell_type": "code",
   "execution_count": 177,
   "metadata": {
    "collapsed": false
   },
   "outputs": [
    {
     "name": "stdout",
     "output_type": "stream",
     "text": [
      "Sim1(bed1, Sally): 1012\n",
      "Sim3(bed2, Sally): 1684\n"
     ]
    }
   ],
   "source": [
    "sally = Roomba()\n",
    "amanda = SmartRoomba()\n",
    "bedroom1 = Room(15, 10)\n",
    "bedroom2 = Room(15, 10)\n",
    "\n",
    "sim1 = Simulation(bedroom1, sally)\n",
    "# sim2 = Simulation(bedroom1, amanda)\n",
    "sim3 = Simulation(bedroom2, sally)\n",
    "# sim4 = Simulation(bedroom2, amanda)\n",
    "\n",
    "print(\"Sim1(bed1, Sally): {}\".format(len(sim1.run_simulation())))\n",
    "# print(\"Sim2(bed1, Amanda): {}\".format(len(sim2.run_simulation())))\n",
    "print(\"Sim3(bed2, Sally): {}\".format(len(sim3.run_simulation())))\n",
    "# print(\"Sim4(bed2, Amanda): {}\".format(len(sim4.run_simulation())))\n",
    "\n"
   ]
  },
  {
   "cell_type": "code",
   "execution_count": 179,
   "metadata": {
    "collapsed": false
   },
   "outputs": [
    {
     "name": "stdout",
     "output_type": "stream",
     "text": [
      "29\n"
     ]
    },
    {
     "data": {
      "image/png": "[encoded data removed]",
      "text/plain": [
       "<matplotlib.figure.Figure at 0x108a30fd0>"
      ]
     },
     "metadata": {},
     "output_type": "display_data"
    }
   ],
   "source": [
    "sim1 = Simulation(bedroom, sally)\n",
    "results = sim1.run_simulation()\n",
    "\n",
    "x_values = [\n",
    "    stat['roomba_location'][0]\n",
    "    for stat in results\n",
    "]\n",
    "\n",
    "y_values = [\n",
    "    stat['roomba_location'][1]\n",
    "    for stat in results\n",
    "]\n",
    "\n",
    "print(len(x_values))\n",
    "\n",
    "plt.plot(x_values, y_values)\n",
    "plt.show()"
   ]
  },
  {
   "cell_type": "code",
   "execution_count": null,
   "metadata": {
    "collapsed": true
   },
   "outputs": [],
   "source": []
  }
 ],
 "metadata": {
  "kernelspec": {
   "display_name": "Python 3",
   "language": "python",
   "name": "python3"
  },
  "language_info": {
   "codemirror_mode": {
    "name": "ipython",
    "version": 3
   },
   "file_extension": ".py",
   "mimetype": "text/x-python",
   "name": "python",
   "nbconvert_exporter": "python",
   "pygments_lexer": "ipython3",
   "version": "3.4.3"
  }
 },
 "nbformat": 4,
 "nbformat_minor": 0
}
