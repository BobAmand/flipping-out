{
 "cells": [
  {
   "cell_type": "code",
   "execution_count": 1,
   "metadata": {
    "collapsed": true
   },
   "outputs": [],
   "source": [
    "## Ploting a histogram\n",
    "\n"
   ]
  },
  {
   "cell_type": "code",
   "execution_count": 2,
   "metadata": {
    "collapsed": true
   },
   "outputs": [],
   "source": [
    "import statistics\n",
    "import matplotlib.pyplot as plt\n",
    "import random\n",
    "import math\n",
    "\n",
    "%matplotlib inline"
   ]
  },
  {
   "cell_type": "code",
   "execution_count": 3,
   "metadata": {
    "collapsed": false
   },
   "outputs": [],
   "source": [
    "# Take these weights of domestic howse cats:\n",
    "    \n",
    "weights = [11.3, 8.06, 9.96, 9.76, 10.09, 9.93, 9.76, 11.47, 8.09, 11.38, 8.47,\n",
    "9.44, 10.52, 8.02, 9.46, 8.44, 8.95, 9.26, 10.62, 8.76]\n",
    "\n",
    "# Plot a histogram of these weights.  Find the mean and std deviation.\n"
   ]
  },
  {
   "cell_type": "code",
   "execution_count": 4,
   "metadata": {
    "collapsed": true
   },
   "outputs": [],
   "source": [
    "def roll_die():\n",
    "    return random.randint(1,6)\n",
    "\n",
    "\n",
    "def roll_n_dice2(n):\n",
    "    tot = 0\n",
    "    for i in range(n):\n",
    "        roll = roll_die()\n",
    "        tot += roll\n",
    "        print(\"Roll {}, has a value {}, and the running total is: {}\".format(i, roll, tot))\n",
    "\n",
    "    print(\"Sum is: {}\".format(tot))\n",
    "    \n",
    "    # return sum(roll_die() for _ in range(n))\n",
    "\n",
    "def roll_n_dice(n):\n",
    "    return sum(roll_die() for _ in range(n))\n"
   ]
  },
  {
   "cell_type": "code",
   "execution_count": 5,
   "metadata": {
    "collapsed": false
   },
   "outputs": [
    {
     "name": "stdout",
     "output_type": "stream",
     "text": [
      "Roll 0, has a value 5, and the running total is: 5\n",
      "Roll 1, has a value 3, and the running total is: 8\n",
      "Roll 2, has a value 5, and the running total is: 13\n",
      "Roll 3, has a value 3, and the running total is: 16\n",
      "Sum is: 16\n",
      "None\n"
     ]
    }
   ],
   "source": [
    "print(roll_n_dice2(4))   # provides detail of each roll.  Each roll will be different\n"
   ]
  },
  {
   "cell_type": "code",
   "execution_count": 6,
   "metadata": {
    "collapsed": false
   },
   "outputs": [
    {
     "name": "stdout",
     "output_type": "stream",
     "text": [
      "16\n"
     ]
    }
   ],
   "source": [
    "print(roll_n_dice(4))  # comprehensive code only provides the tally; every run will be different."
   ]
  },
  {
   "cell_type": "code",
   "execution_count": 25,
   "metadata": {
    "collapsed": false
   },
   "outputs": [],
   "source": [
    "n = 20\n",
    "data = []\n",
    "freq = 100000\n",
    "for _ in range(freq):\n",
    "    data.append(roll_n_dice(n))"
   ]
  },
  {
   "cell_type": "code",
   "execution_count": 26,
   "metadata": {
    "collapsed": false
   },
   "outputs": [
    {
     "name": "stdout",
     "output_type": "stream",
     "text": [
      "[73, 53, 59, 76, 72, 84, 65, 73, 60, 66]\n"
     ]
    }
   ],
   "source": [
    "print(data[:10])"
   ]
  },
  {
   "cell_type": "code",
   "execution_count": 38,
   "metadata": {
    "collapsed": false
   },
   "outputs": [
    {
     "data": {
      "image/png": "[encoded data removed]",
      "text/plain": [
       "<matplotlib.figure.Figure at 0x108cd2fd0>"
      ]
     },
     "metadata": {},
     "output_type": "display_data"
    },
    {
     "name": "stdout",
     "output_type": "stream",
     "text": [
      "Mean of the sum of 20 dice, rolled 100000 times = 70.00\n",
      "Standard deviation = 7.63\n"
     ]
    }
   ],
   "source": [
    "plt.hist(data, bins=range(n, 6*n+2))   # bins=range(n, 6*n+2) vs bins=(max(data)-min(data)+1)\n",
    "plt.xlim(n, 6*n+1)   # Low range: n = the number of dice (at least 1 per die, therefore = 1 * n)\n",
    "plt.show()           # High range: possible to roll all 6's; 6 x the number of dice, add 1 or 2 to extend range.\n",
    "         \n",
    "print(\"Mean of the sum of {0:} dice, rolled {1:} times = {2:.2f}\".format(n, freq, statistics.mean(data)))\n",
    "print(\"Standard deviation = {0:.2f}\".format(statistics.stdev(data)))"
   ]
  },
  {
   "cell_type": "code",
   "execution_count": 39,
   "metadata": {
    "collapsed": false
   },
   "outputs": [
    {
     "name": "stdout",
     "output_type": "stream",
     "text": [
      "Chance on 1 dice: 0.0\n",
      "Chance on 2 dice: 0.028\n",
      "Chance on 3 dice: 0.353\n",
      "Chance on 4 dice: 0.765\n",
      "Chance on 5 dice: 0.941\n",
      "Chance on 6 dice: 0.988\n",
      "Chance on 7 dice: 1.0\n",
      "Chance on 8 dice: 1.0\n",
      "Chance on 9 dice: 1.0\n",
      "Chance on 10 dice: 1.0\n"
     ]
    }
   ],
   "source": [
    "def trial_roll(target=12, num_dice=3, num_trials=1000):\n",
    "    rolls = [roll_n_dice(num_dice) for _ in range(num_trials)]\n",
    "    hits = len([roll for roll in rolls if roll >= target])\n",
    "    return hits / num_trials\n",
    "\n",
    "for x in range (1, 11):\n",
    "    print (\"Chance on {} dice: {}\". format(x, trial_roll(num_dice=x)))\n",
    "    \n",
    "x_values = range(1, 11)\n",
    "y_values = [trial_roll(num_dice=x) for x in x_values]"
   ]
  },
  {
   "cell_type": "code",
   "execution_count": 40,
   "metadata": {
    "collapsed": false
   },
   "outputs": [
    {
     "data": {
      "image/png": "[encoded data removed]",
      "text/plain": [
       "<matplotlib.figure.Figure at 0x108d7c5f8>"
      ]
     },
     "metadata": {},
     "output_type": "display_data"
    }
   ],
   "source": [
    "x_values = range(1, 11)\n",
    "y_values = [trial_roll(num_dice=x) for x in x_values]\n",
    "\n",
    "plt.scatter(x_values, y_values)\n",
    "\n",
    "plt.xlabel('2^n power')\n",
    "plt.ylabel('Heads minus Tails')\n",
    "plt.title('Scatter Plot of Heads - Tails to the Power of 2 with log(x)')\n",
    "plt.show()"
   ]
  },
  {
   "cell_type": "markdown",
   "metadata": {},
   "source": [
    "## Roomba simulation\n",
    "\n",
    "* Room that is 15 x 20 ft.\n",
    "each\"tick' (unit of time) the roomba moves 1 foot untuill it hits a wall. Whatever spot(1 ft x 1 ft square) the roomba is in at the  time considered cleanred.\n",
    "* The roomba does not keep track of where its been the only thing is ithe number of degress it las turned.\n",
    "* Oure defalut foomba follows these rules:\n",
    "1. move in a straight line until it hits a wall\n",
    "2. Rotate randomly from 90 to 270 degrees\n"
   ]
  }
 ],
 "metadata": {
  "kernelspec": {
   "display_name": "Python 3",
   "language": "python",
   "name": "python3"
  },
  "language_info": {
   "codemirror_mode": {
    "name": "ipython",
    "version": 3
   },
   "file_extension": ".py",
   "mimetype": "text/x-python",
   "name": "python",
   "nbconvert_exporter": "python",
   "pygments_lexer": "ipython3",
   "version": "3.4.3"
  }
 },
 "nbformat": 4,
 "nbformat_minor": 0
}
