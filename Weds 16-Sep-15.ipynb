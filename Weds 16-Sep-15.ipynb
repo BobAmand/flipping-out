{
 "cells": [
  {
   "cell_type": "code",
   "execution_count": 9,
   "metadata": {
    "collapsed": true
   },
   "outputs": [],
   "source": [
    "## Ploting a histogram\n",
    "\n"
   ]
  },
  {
   "cell_type": "code",
   "execution_count": 10,
   "metadata": {
    "collapsed": true
   },
   "outputs": [],
   "source": [
    "import statistics\n",
    "import matplotlib.pyplot as plt\n",
    "import random\n",
    "import math\n"
   ]
  },
  {
   "cell_type": "code",
   "execution_count": 11,
   "metadata": {
    "collapsed": false
   },
   "outputs": [
    {
     "ename": "SyntaxError",
     "evalue": "invalid syntax (<ipython-input-11-df07ee9760d2>, line 1)",
     "output_type": "error",
     "traceback": [
      "\u001b[0;36m  File \u001b[0;32m\"<ipython-input-11-df07ee9760d2>\"\u001b[0;36m, line \u001b[0;32m1\u001b[0m\n\u001b[0;31m    Take these weights of domestic howse cats:\u001b[0m\n\u001b[0m             ^\u001b[0m\n\u001b[0;31mSyntaxError\u001b[0m\u001b[0;31m:\u001b[0m invalid syntax\n"
     ]
    }
   ],
   "source": [
    "#Take these weights of domestic howse cats:\n",
    "    \n",
    "weights = [11.3, 8.06, 9.96, 9.76, 10.09, 9.93, 9.76, 11.47, 8.09, 11.38, 8.47,\n",
    "9.44, 10.52, 8.02, 9.46, 8.44, 8.95, 9.26, 10.62, 8.76]\n",
    "\n",
    "Plot a histogram of these weights.  Find the mean and std deviation.\n"
   ]
  },
  {
   "cell_type": "code",
   "execution_count": 13,
   "metadata": {
    "collapsed": true
   },
   "outputs": [],
   "source": [
    "def roll_die():\n",
    "    return random.randint(1,6)\n",
    "\n",
    "\n",
    "def roll_n_dice(n):\n",
    "    return sum(roll_die() for _ in range(n))\n",
    "\n"
   ]
  },
  {
   "cell_type": "code",
   "execution_count": 15,
   "metadata": {
    "collapsed": false
   },
   "outputs": [
    {
     "name": "stdout",
     "output_type": "stream",
     "text": [
      "4\n"
     ]
    }
   ],
   "source": [
    "print(roll_die())\n"
   ]
  },
  {
   "cell_type": "code",
   "execution_count": null,
   "metadata": {
    "collapsed": true
   },
   "outputs": [],
   "source": []
  },
  {
   "cell_type": "code",
   "execution_count": 16,
   "metadata": {
    "collapsed": false
   },
   "outputs": [
    {
     "ename": "SyntaxError",
     "evalue": "invalid syntax (<ipython-input-16-4d1480b5598b>, line 8)",
     "output_type": "error",
     "traceback": [
      "\u001b[0;36m  File \u001b[0;32m\"<ipython-input-16-4d1480b5598b>\"\u001b[0;36m, line \u001b[0;32m8\u001b[0m\n\u001b[0;31m    plt.xlim(n, 6*n+1)\u001b[0m\n\u001b[0m      ^\u001b[0m\n\u001b[0;31mSyntaxError\u001b[0m\u001b[0;31m:\u001b[0m invalid syntax\n"
     ]
    }
   ],
   "source": [
    "n = 3\n",
    "data = []\n",
    "\n",
    "for _ in range(1000):\n",
    "    data.append(roll_n_dice(n))\n",
    "    \n",
    "plt.hist(data, bins=(max(data)-min(data)+1)  #bin=range(n, 6*n+2)\n",
    "plt.xlim(n, 6*n+1)\n",
    "plt.show()\n",
    "         \n",
    "print(statistics.mean(data))\n",
    "print(statistics.stdev(data))\n",
    "         "
   ]
  },
  {
   "cell_type": "code",
   "execution_count": 23,
   "metadata": {
    "collapsed": false
   },
   "outputs": [
    {
     "name": "stdout",
     "output_type": "stream",
     "text": [
      "Chance on 1 dice: 0.0\n",
      "Chance on 2 dice: 0.028\n",
      "Chance on 3 dice: 0.37\n",
      "Chance on 4 dice: 0.751\n",
      "Chance on 5 dice: 0.941\n",
      "Chance on 6 dice: 0.992\n",
      "Chance on 7 dice: 0.999\n",
      "Chance on 8 dice: 1.0\n",
      "Chance on 9 dice: 1.0\n",
      "Chance on 10 dice: 1.0\n"
     ]
    }
   ],
   "source": [
    "def trial_roll(target=12, num_dice=3, num_trials=1000):\n",
    "    rolls = [roll_n_dice(num_dice) for _ in range(num_trials)]\n",
    "    hits = len([roll for roll in rolls if roll >= target])\n",
    "    return hits / num_trials\n",
    "\n",
    "for x in range (1, 11):\n",
    "    print (\"Chance on {} dice: {}\". format(x, trial_roll(num_dice=x)))\n",
    "    \n",
    "x_values = range(1, 11)\n",
    "y_values = [trial_roll(num_dice=x) for x in x_values]"
   ]
  },
  {
   "cell_type": "code",
   "execution_count": 27,
   "metadata": {
    "collapsed": false
   },
   "outputs": [],
   "source": [
    "x_values = range(1, 11)\n",
    "y_values = [trial_roll(num_dice=x) for x in x_values]\n",
    "\n",
    "plt.scatter(x_values, y_values)\n",
    "\n",
    "plt.xlabel('2^n power')\n",
    "plt.ylabel('Heads minus Tails')\n",
    "plt.title('Scatter Plot of Heads - Tails to the Power of 2 with log(x)')\n",
    "plt.show()"
   ]
  },
  {
   "cell_type": "markdown",
   "metadata": {},
   "source": [
    "## Roomba simulation\n",
    "\n",
    "* Room that is 15 x 20 ft.\n",
    "each\"tick' (unit of time) the roomba moves 1 foot untuill it hits a wall. Whatever spot(1 ft x 1 ft square) the roomba is in at the  time considered cleanred.\n",
    "* The roomba does not keep track of where its been the only thing is ithe number of degress it las turned.\n",
    "* Oure defalut foomba follows these rules:\n",
    "1. move in a straight line until it hits a wall\n",
    "2. Rotate randomly from 90 to 270 degrees\n"
   ]
  }
 ],
 "metadata": {
  "kernelspec": {
   "display_name": "Python 3",
   "language": "python",
   "name": "python3"
  },
  "language_info": {
   "codemirror_mode": {
    "name": "ipython",
    "version": 3
   },
   "file_extension": ".py",
   "mimetype": "text/x-python",
   "name": "python",
   "nbconvert_exporter": "python",
   "pygments_lexer": "ipython3",
   "version": "3.4.3"
  }
 },
 "nbformat": 4,
 "nbformat_minor": 0
}
